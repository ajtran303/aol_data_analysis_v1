{
  "nbformat": 4,
  "nbformat_minor": 0,
  "metadata": {
    "colab": {
      "provenance": [],
      "authorship_tag": "ABX9TyPrij4fCiGy1pxkIHGKpf+h"
    },
    "kernelspec": {
      "name": "python3",
      "display_name": "Python 3"
    },
    "language_info": {
      "name": "python"
    }
  },
  "cells": [
    {
      "cell_type": "markdown",
      "source": [
        "# Hello AOL\n",
        "\n",
        "An EDA of the 2006 AOL User Search Query Dataset"
      ],
      "metadata": {
        "id": "2JLtg7X4-okr"
      }
    },
    {
      "cell_type": "code",
      "execution_count": 62,
      "metadata": {
        "id": "MH3CbkNrnY8Z",
        "colab": {
          "base_uri": "https://localhost:8080/"
        },
        "outputId": "0dd11915-9c4d-4e66-92df-579f29658a86"
      },
      "outputs": [
        {
          "output_type": "stream",
          "name": "stdout",
          "text": [
            "Drive already mounted at /gdrive; to attempt to forcibly remount, call drive.mount(\"/gdrive\", force_remount=True).\n"
          ]
        }
      ],
      "source": [
        "# mount google drive\n",
        "\n",
        "from google.colab import drive\n",
        "drive.mount('/gdrive')"
      ]
    },
    {
      "cell_type": "code",
      "source": [
        "directory = '/gdrive/My Drive/aol_data/'\n",
        "common_file_name = 'user-ct-test-collection-'\n",
        "file_names = []\n",
        "\n",
        "for number in range(1, 11):\n",
        "    if number != 10:\n",
        "        number = f\"0{number}\"\n",
        "\n",
        "    file_name = common_file_name + str(number) + '.txt'\n",
        "    file_names.append(file_name)\n",
        "\n",
        "file_paths = [directory + file_name for file_name in file_names]\n",
        "print(file_paths)"
      ],
      "metadata": {
        "colab": {
          "base_uri": "https://localhost:8080/"
        },
        "id": "R4qYjtEiNejS",
        "outputId": "18d7df4f-5df6-42fa-a84d-f8f49b8386c2"
      },
      "execution_count": 63,
      "outputs": [
        {
          "output_type": "stream",
          "name": "stdout",
          "text": [
            "['/gdrive/My Drive/aol_data/user-ct-test-collection-01.txt', '/gdrive/My Drive/aol_data/user-ct-test-collection-02.txt', '/gdrive/My Drive/aol_data/user-ct-test-collection-03.txt', '/gdrive/My Drive/aol_data/user-ct-test-collection-04.txt', '/gdrive/My Drive/aol_data/user-ct-test-collection-05.txt', '/gdrive/My Drive/aol_data/user-ct-test-collection-06.txt', '/gdrive/My Drive/aol_data/user-ct-test-collection-07.txt', '/gdrive/My Drive/aol_data/user-ct-test-collection-08.txt', '/gdrive/My Drive/aol_data/user-ct-test-collection-09.txt', '/gdrive/My Drive/aol_data/user-ct-test-collection-10.txt']\n"
          ]
        }
      ]
    },
    {
      "cell_type": "code",
      "source": [
        "# test connection -> True if valid data\n",
        "\n",
        "expected = 'AnonID\\tQuery\\tQueryTime\\tItemRank\\tClickURL\\n'\n",
        "\n",
        "def test_file_data():\n",
        "    is_valid = None\n",
        "    for file_path in file_paths:\n",
        "        with open(file_path, 'r') as f:\n",
        "            actual = f.readline()\n",
        "\n",
        "            if expected != actual:\n",
        "                 is_valid = False\n",
        "                 break\n",
        "\n",
        "    if is_valid == None:\n",
        "        is_valid = True\n",
        "\n",
        "    return is_valid\n",
        "\n",
        "print(f'Data is valid: {test_file_data()}')"
      ],
      "metadata": {
        "colab": {
          "base_uri": "https://localhost:8080/"
        },
        "id": "ZnOIHwJ9Ntwn",
        "outputId": "0f7e5361-fd97-4fa0-b278-0c43db945c82"
      },
      "execution_count": 64,
      "outputs": [
        {
          "output_type": "stream",
          "name": "stdout",
          "text": [
            "Data is valid: True\n"
          ]
        }
      ]
    },
    {
      "cell_type": "code",
      "source": [
        "import pandas as pd\n",
        "import numpy as np"
      ],
      "metadata": {
        "id": "maIYvloX_lPC"
      },
      "execution_count": 131,
      "outputs": []
    },
    {
      "cell_type": "code",
      "source": [
        "# each file is like 200MB in size\n",
        "# this is a POC so I am only going to do the first one\n",
        "converters = {\n",
        "    'AnonID': np.uint32\n",
        "}\n",
        "\n",
        "df = pd.read_csv(file_paths[0], sep='\\t', dtype=object, converters=converters)"
      ],
      "metadata": {
        "id": "awN-jm1w_sVm",
        "colab": {
          "base_uri": "https://localhost:8080/"
        },
        "outputId": "92ddea8e-92cf-422a-f5d1-635fa96df23b"
      },
      "execution_count": 132,
      "outputs": [
        {
          "output_type": "stream",
          "name": "stderr",
          "text": [
            "<ipython-input-132-c6c9bd1b0aa2>:7: ParserWarning: Both a converter and dtype were specified for column AnonID - only the converter will be used.\n",
            "  df = pd.read_csv(file_paths[0], sep='\\t', dtype=object, converters=converters)\n"
          ]
        }
      ]
    },
    {
      "cell_type": "code",
      "source": [
        "df.info()"
      ],
      "metadata": {
        "colab": {
          "base_uri": "https://localhost:8080/"
        },
        "id": "e8PVUiTSbQb2",
        "outputId": "2fda98c0-0899-450c-8561-0bf0476dd7e7"
      },
      "execution_count": 133,
      "outputs": [
        {
          "output_type": "stream",
          "name": "stdout",
          "text": [
            "<class 'pandas.core.frame.DataFrame'>\n",
            "RangeIndex: 3558411 entries, 0 to 3558410\n",
            "Data columns (total 5 columns):\n",
            " #   Column     Dtype \n",
            "---  ------     ----- \n",
            " 0   AnonID     uint32\n",
            " 1   Query      object\n",
            " 2   QueryTime  object\n",
            " 3   ItemRank   object\n",
            " 4   ClickURL   object\n",
            "dtypes: object(4), uint32(1)\n",
            "memory usage: 122.2+ MB\n"
          ]
        }
      ]
    },
    {
      "cell_type": "code",
      "source": [
        "df.head()"
      ],
      "metadata": {
        "colab": {
          "base_uri": "https://localhost:8080/",
          "height": 206
        },
        "id": "iqjCtQxVbSZ2",
        "outputId": "29fc2ca7-4d9e-41f3-be2b-cd16d252ca28"
      },
      "execution_count": 134,
      "outputs": [
        {
          "output_type": "execute_result",
          "data": {
            "text/plain": [
              "   AnonID                        Query            QueryTime ItemRank ClickURL\n",
              "0     142               rentdirect.com  2006-03-01 07:17:12      NaN      NaN\n",
              "1     142  www.prescriptionfortime.com  2006-03-12 12:31:06      NaN      NaN\n",
              "2     142                   staple.com  2006-03-17 21:19:29      NaN      NaN\n",
              "3     142                   staple.com  2006-03-17 21:19:45      NaN      NaN\n",
              "4     142    www.newyorklawyersite.com  2006-03-18 08:02:58      NaN      NaN"
            ],
            "text/html": [
              "\n",
              "  <div id=\"df-11ce42df-8ac6-4fce-988f-52b8426772e0\">\n",
              "    <div class=\"colab-df-container\">\n",
              "      <div>\n",
              "<style scoped>\n",
              "    .dataframe tbody tr th:only-of-type {\n",
              "        vertical-align: middle;\n",
              "    }\n",
              "\n",
              "    .dataframe tbody tr th {\n",
              "        vertical-align: top;\n",
              "    }\n",
              "\n",
              "    .dataframe thead th {\n",
              "        text-align: right;\n",
              "    }\n",
              "</style>\n",
              "<table border=\"1\" class=\"dataframe\">\n",
              "  <thead>\n",
              "    <tr style=\"text-align: right;\">\n",
              "      <th></th>\n",
              "      <th>AnonID</th>\n",
              "      <th>Query</th>\n",
              "      <th>QueryTime</th>\n",
              "      <th>ItemRank</th>\n",
              "      <th>ClickURL</th>\n",
              "    </tr>\n",
              "  </thead>\n",
              "  <tbody>\n",
              "    <tr>\n",
              "      <th>0</th>\n",
              "      <td>142</td>\n",
              "      <td>rentdirect.com</td>\n",
              "      <td>2006-03-01 07:17:12</td>\n",
              "      <td>NaN</td>\n",
              "      <td>NaN</td>\n",
              "    </tr>\n",
              "    <tr>\n",
              "      <th>1</th>\n",
              "      <td>142</td>\n",
              "      <td>www.prescriptionfortime.com</td>\n",
              "      <td>2006-03-12 12:31:06</td>\n",
              "      <td>NaN</td>\n",
              "      <td>NaN</td>\n",
              "    </tr>\n",
              "    <tr>\n",
              "      <th>2</th>\n",
              "      <td>142</td>\n",
              "      <td>staple.com</td>\n",
              "      <td>2006-03-17 21:19:29</td>\n",
              "      <td>NaN</td>\n",
              "      <td>NaN</td>\n",
              "    </tr>\n",
              "    <tr>\n",
              "      <th>3</th>\n",
              "      <td>142</td>\n",
              "      <td>staple.com</td>\n",
              "      <td>2006-03-17 21:19:45</td>\n",
              "      <td>NaN</td>\n",
              "      <td>NaN</td>\n",
              "    </tr>\n",
              "    <tr>\n",
              "      <th>4</th>\n",
              "      <td>142</td>\n",
              "      <td>www.newyorklawyersite.com</td>\n",
              "      <td>2006-03-18 08:02:58</td>\n",
              "      <td>NaN</td>\n",
              "      <td>NaN</td>\n",
              "    </tr>\n",
              "  </tbody>\n",
              "</table>\n",
              "</div>\n",
              "      <button class=\"colab-df-convert\" onclick=\"convertToInteractive('df-11ce42df-8ac6-4fce-988f-52b8426772e0')\"\n",
              "              title=\"Convert this dataframe to an interactive table.\"\n",
              "              style=\"display:none;\">\n",
              "        \n",
              "  <svg xmlns=\"http://www.w3.org/2000/svg\" height=\"24px\"viewBox=\"0 0 24 24\"\n",
              "       width=\"24px\">\n",
              "    <path d=\"M0 0h24v24H0V0z\" fill=\"none\"/>\n",
              "    <path d=\"M18.56 5.44l.94 2.06.94-2.06 2.06-.94-2.06-.94-.94-2.06-.94 2.06-2.06.94zm-11 1L8.5 8.5l.94-2.06 2.06-.94-2.06-.94L8.5 2.5l-.94 2.06-2.06.94zm10 10l.94 2.06.94-2.06 2.06-.94-2.06-.94-.94-2.06-.94 2.06-2.06.94z\"/><path d=\"M17.41 7.96l-1.37-1.37c-.4-.4-.92-.59-1.43-.59-.52 0-1.04.2-1.43.59L10.3 9.45l-7.72 7.72c-.78.78-.78 2.05 0 2.83L4 21.41c.39.39.9.59 1.41.59.51 0 1.02-.2 1.41-.59l7.78-7.78 2.81-2.81c.8-.78.8-2.07 0-2.86zM5.41 20L4 18.59l7.72-7.72 1.47 1.35L5.41 20z\"/>\n",
              "  </svg>\n",
              "      </button>\n",
              "      \n",
              "  <style>\n",
              "    .colab-df-container {\n",
              "      display:flex;\n",
              "      flex-wrap:wrap;\n",
              "      gap: 12px;\n",
              "    }\n",
              "\n",
              "    .colab-df-convert {\n",
              "      background-color: #E8F0FE;\n",
              "      border: none;\n",
              "      border-radius: 50%;\n",
              "      cursor: pointer;\n",
              "      display: none;\n",
              "      fill: #1967D2;\n",
              "      height: 32px;\n",
              "      padding: 0 0 0 0;\n",
              "      width: 32px;\n",
              "    }\n",
              "\n",
              "    .colab-df-convert:hover {\n",
              "      background-color: #E2EBFA;\n",
              "      box-shadow: 0px 1px 2px rgba(60, 64, 67, 0.3), 0px 1px 3px 1px rgba(60, 64, 67, 0.15);\n",
              "      fill: #174EA6;\n",
              "    }\n",
              "\n",
              "    [theme=dark] .colab-df-convert {\n",
              "      background-color: #3B4455;\n",
              "      fill: #D2E3FC;\n",
              "    }\n",
              "\n",
              "    [theme=dark] .colab-df-convert:hover {\n",
              "      background-color: #434B5C;\n",
              "      box-shadow: 0px 1px 3px 1px rgba(0, 0, 0, 0.15);\n",
              "      filter: drop-shadow(0px 1px 2px rgba(0, 0, 0, 0.3));\n",
              "      fill: #FFFFFF;\n",
              "    }\n",
              "  </style>\n",
              "\n",
              "      <script>\n",
              "        const buttonEl =\n",
              "          document.querySelector('#df-11ce42df-8ac6-4fce-988f-52b8426772e0 button.colab-df-convert');\n",
              "        buttonEl.style.display =\n",
              "          google.colab.kernel.accessAllowed ? 'block' : 'none';\n",
              "\n",
              "        async function convertToInteractive(key) {\n",
              "          const element = document.querySelector('#df-11ce42df-8ac6-4fce-988f-52b8426772e0');\n",
              "          const dataTable =\n",
              "            await google.colab.kernel.invokeFunction('convertToInteractive',\n",
              "                                                     [key], {});\n",
              "          if (!dataTable) return;\n",
              "\n",
              "          const docLinkHtml = 'Like what you see? Visit the ' +\n",
              "            '<a target=\"_blank\" href=https://colab.research.google.com/notebooks/data_table.ipynb>data table notebook</a>'\n",
              "            + ' to learn more about interactive tables.';\n",
              "          element.innerHTML = '';\n",
              "          dataTable['output_type'] = 'display_data';\n",
              "          await google.colab.output.renderOutput(dataTable, element);\n",
              "          const docLink = document.createElement('div');\n",
              "          docLink.innerHTML = docLinkHtml;\n",
              "          element.appendChild(docLink);\n",
              "        }\n",
              "      </script>\n",
              "    </div>\n",
              "  </div>\n",
              "  "
            ]
          },
          "metadata": {},
          "execution_count": 134
        }
      ]
    },
    {
      "cell_type": "markdown",
      "source": [
        "## Data Cleaning\n",
        "\n",
        "ItemRank and ClickURL have NaN datatypes. Ideally, we want a number 0 and for ItemRank.\n",
        "\n",
        "For ClickURL, we will leave NaN values but process the URLs to keep the netloc. We keep NaNs to group by later, I guess."
      ],
      "metadata": {
        "id": "R5yX76WRft_N"
      }
    },
    {
      "cell_type": "code",
      "source": [
        "# by setting 0, take advantage of int16 dtype\n",
        "df.ItemRank = df.ItemRank.fillna(value=0)\n",
        "df.ItemRank = pd.to_numeric(df.ItemRank, downcast='integer')"
      ],
      "metadata": {
        "id": "8UFhubfIb0-i"
      },
      "execution_count": 135,
      "outputs": []
    },
    {
      "cell_type": "code",
      "source": [
        "df.info()"
      ],
      "metadata": {
        "colab": {
          "base_uri": "https://localhost:8080/"
        },
        "id": "E65yg3p_etkz",
        "outputId": "972801bf-0bf5-4c97-a557-d65d3d7d20e1"
      },
      "execution_count": 136,
      "outputs": [
        {
          "output_type": "stream",
          "name": "stdout",
          "text": [
            "<class 'pandas.core.frame.DataFrame'>\n",
            "RangeIndex: 3558411 entries, 0 to 3558410\n",
            "Data columns (total 5 columns):\n",
            " #   Column     Dtype \n",
            "---  ------     ----- \n",
            " 0   AnonID     uint32\n",
            " 1   Query      object\n",
            " 2   QueryTime  object\n",
            " 3   ItemRank   int16 \n",
            " 4   ClickURL   object\n",
            "dtypes: int16(1), object(3), uint32(1)\n",
            "memory usage: 101.8+ MB\n"
          ]
        }
      ]
    },
    {
      "cell_type": "code",
      "source": [
        "df.head()"
      ],
      "metadata": {
        "colab": {
          "base_uri": "https://localhost:8080/",
          "height": 206
        },
        "id": "52a7YnHrfH8m",
        "outputId": "967f6114-21f8-40aa-9d19-d186845197fa"
      },
      "execution_count": 137,
      "outputs": [
        {
          "output_type": "execute_result",
          "data": {
            "text/plain": [
              "   AnonID                        Query            QueryTime  ItemRank ClickURL\n",
              "0     142               rentdirect.com  2006-03-01 07:17:12         0      NaN\n",
              "1     142  www.prescriptionfortime.com  2006-03-12 12:31:06         0      NaN\n",
              "2     142                   staple.com  2006-03-17 21:19:29         0      NaN\n",
              "3     142                   staple.com  2006-03-17 21:19:45         0      NaN\n",
              "4     142    www.newyorklawyersite.com  2006-03-18 08:02:58         0      NaN"
            ],
            "text/html": [
              "\n",
              "  <div id=\"df-7d31c05d-6537-44d1-b2ee-8242e1729f19\">\n",
              "    <div class=\"colab-df-container\">\n",
              "      <div>\n",
              "<style scoped>\n",
              "    .dataframe tbody tr th:only-of-type {\n",
              "        vertical-align: middle;\n",
              "    }\n",
              "\n",
              "    .dataframe tbody tr th {\n",
              "        vertical-align: top;\n",
              "    }\n",
              "\n",
              "    .dataframe thead th {\n",
              "        text-align: right;\n",
              "    }\n",
              "</style>\n",
              "<table border=\"1\" class=\"dataframe\">\n",
              "  <thead>\n",
              "    <tr style=\"text-align: right;\">\n",
              "      <th></th>\n",
              "      <th>AnonID</th>\n",
              "      <th>Query</th>\n",
              "      <th>QueryTime</th>\n",
              "      <th>ItemRank</th>\n",
              "      <th>ClickURL</th>\n",
              "    </tr>\n",
              "  </thead>\n",
              "  <tbody>\n",
              "    <tr>\n",
              "      <th>0</th>\n",
              "      <td>142</td>\n",
              "      <td>rentdirect.com</td>\n",
              "      <td>2006-03-01 07:17:12</td>\n",
              "      <td>0</td>\n",
              "      <td>NaN</td>\n",
              "    </tr>\n",
              "    <tr>\n",
              "      <th>1</th>\n",
              "      <td>142</td>\n",
              "      <td>www.prescriptionfortime.com</td>\n",
              "      <td>2006-03-12 12:31:06</td>\n",
              "      <td>0</td>\n",
              "      <td>NaN</td>\n",
              "    </tr>\n",
              "    <tr>\n",
              "      <th>2</th>\n",
              "      <td>142</td>\n",
              "      <td>staple.com</td>\n",
              "      <td>2006-03-17 21:19:29</td>\n",
              "      <td>0</td>\n",
              "      <td>NaN</td>\n",
              "    </tr>\n",
              "    <tr>\n",
              "      <th>3</th>\n",
              "      <td>142</td>\n",
              "      <td>staple.com</td>\n",
              "      <td>2006-03-17 21:19:45</td>\n",
              "      <td>0</td>\n",
              "      <td>NaN</td>\n",
              "    </tr>\n",
              "    <tr>\n",
              "      <th>4</th>\n",
              "      <td>142</td>\n",
              "      <td>www.newyorklawyersite.com</td>\n",
              "      <td>2006-03-18 08:02:58</td>\n",
              "      <td>0</td>\n",
              "      <td>NaN</td>\n",
              "    </tr>\n",
              "  </tbody>\n",
              "</table>\n",
              "</div>\n",
              "      <button class=\"colab-df-convert\" onclick=\"convertToInteractive('df-7d31c05d-6537-44d1-b2ee-8242e1729f19')\"\n",
              "              title=\"Convert this dataframe to an interactive table.\"\n",
              "              style=\"display:none;\">\n",
              "        \n",
              "  <svg xmlns=\"http://www.w3.org/2000/svg\" height=\"24px\"viewBox=\"0 0 24 24\"\n",
              "       width=\"24px\">\n",
              "    <path d=\"M0 0h24v24H0V0z\" fill=\"none\"/>\n",
              "    <path d=\"M18.56 5.44l.94 2.06.94-2.06 2.06-.94-2.06-.94-.94-2.06-.94 2.06-2.06.94zm-11 1L8.5 8.5l.94-2.06 2.06-.94-2.06-.94L8.5 2.5l-.94 2.06-2.06.94zm10 10l.94 2.06.94-2.06 2.06-.94-2.06-.94-.94-2.06-.94 2.06-2.06.94z\"/><path d=\"M17.41 7.96l-1.37-1.37c-.4-.4-.92-.59-1.43-.59-.52 0-1.04.2-1.43.59L10.3 9.45l-7.72 7.72c-.78.78-.78 2.05 0 2.83L4 21.41c.39.39.9.59 1.41.59.51 0 1.02-.2 1.41-.59l7.78-7.78 2.81-2.81c.8-.78.8-2.07 0-2.86zM5.41 20L4 18.59l7.72-7.72 1.47 1.35L5.41 20z\"/>\n",
              "  </svg>\n",
              "      </button>\n",
              "      \n",
              "  <style>\n",
              "    .colab-df-container {\n",
              "      display:flex;\n",
              "      flex-wrap:wrap;\n",
              "      gap: 12px;\n",
              "    }\n",
              "\n",
              "    .colab-df-convert {\n",
              "      background-color: #E8F0FE;\n",
              "      border: none;\n",
              "      border-radius: 50%;\n",
              "      cursor: pointer;\n",
              "      display: none;\n",
              "      fill: #1967D2;\n",
              "      height: 32px;\n",
              "      padding: 0 0 0 0;\n",
              "      width: 32px;\n",
              "    }\n",
              "\n",
              "    .colab-df-convert:hover {\n",
              "      background-color: #E2EBFA;\n",
              "      box-shadow: 0px 1px 2px rgba(60, 64, 67, 0.3), 0px 1px 3px 1px rgba(60, 64, 67, 0.15);\n",
              "      fill: #174EA6;\n",
              "    }\n",
              "\n",
              "    [theme=dark] .colab-df-convert {\n",
              "      background-color: #3B4455;\n",
              "      fill: #D2E3FC;\n",
              "    }\n",
              "\n",
              "    [theme=dark] .colab-df-convert:hover {\n",
              "      background-color: #434B5C;\n",
              "      box-shadow: 0px 1px 3px 1px rgba(0, 0, 0, 0.15);\n",
              "      filter: drop-shadow(0px 1px 2px rgba(0, 0, 0, 0.3));\n",
              "      fill: #FFFFFF;\n",
              "    }\n",
              "  </style>\n",
              "\n",
              "      <script>\n",
              "        const buttonEl =\n",
              "          document.querySelector('#df-7d31c05d-6537-44d1-b2ee-8242e1729f19 button.colab-df-convert');\n",
              "        buttonEl.style.display =\n",
              "          google.colab.kernel.accessAllowed ? 'block' : 'none';\n",
              "\n",
              "        async function convertToInteractive(key) {\n",
              "          const element = document.querySelector('#df-7d31c05d-6537-44d1-b2ee-8242e1729f19');\n",
              "          const dataTable =\n",
              "            await google.colab.kernel.invokeFunction('convertToInteractive',\n",
              "                                                     [key], {});\n",
              "          if (!dataTable) return;\n",
              "\n",
              "          const docLinkHtml = 'Like what you see? Visit the ' +\n",
              "            '<a target=\"_blank\" href=https://colab.research.google.com/notebooks/data_table.ipynb>data table notebook</a>'\n",
              "            + ' to learn more about interactive tables.';\n",
              "          element.innerHTML = '';\n",
              "          dataTable['output_type'] = 'display_data';\n",
              "          await google.colab.output.renderOutput(dataTable, element);\n",
              "          const docLink = document.createElement('div');\n",
              "          docLink.innerHTML = docLinkHtml;\n",
              "          element.appendChild(docLink);\n",
              "        }\n",
              "      </script>\n",
              "    </div>\n",
              "  </div>\n",
              "  "
            ]
          },
          "metadata": {},
          "execution_count": 137
        }
      ]
    },
    {
      "cell_type": "code",
      "source": [
        "print(df.ItemRank.min())\n",
        "print(df.ItemRank.max())"
      ],
      "metadata": {
        "colab": {
          "base_uri": "https://localhost:8080/"
        },
        "id": "yJHWOqyInyCI",
        "outputId": "24eab631-a5c6-4d1f-bed2-53523d92be0a"
      },
      "execution_count": 141,
      "outputs": [
        {
          "output_type": "stream",
          "name": "stdout",
          "text": [
            "0\n",
            "500\n"
          ]
        }
      ]
    },
    {
      "cell_type": "markdown",
      "source": [
        "Ideally I would process the Query or ClickURL columns as well. For now, I will just do ClickURL."
      ],
      "metadata": {
        "id": "JFA-_Pz7gc_M"
      }
    },
    {
      "cell_type": "code",
      "source": [
        "from urllib.parse import urlparse\n",
        "\n",
        "df.ClickURL = df.ClickURL.map(lambda x: urlparse(x).netloc, na_action='ignore')\n"
      ],
      "metadata": {
        "id": "DbtdKehthyS_"
      },
      "execution_count": 145,
      "outputs": []
    },
    {
      "cell_type": "code",
      "source": [
        "df.tail(2) # record 3558409 should just be www.greatseats.com"
      ],
      "metadata": {
        "colab": {
          "base_uri": "https://localhost:8080/",
          "height": 112
        },
        "id": "eW263n-MpJDb",
        "outputId": "a0cbfbe2-b960-46e7-bcde-eaf9293b0b1d"
      },
      "execution_count": 148,
      "outputs": [
        {
          "output_type": "execute_result",
          "data": {
            "text/plain": [
              "           AnonID              Query            QueryTime  ItemRank  \\\n",
              "3558409  24969374    orioles tickets  2006-05-31 12:31:57         2   \n",
              "3558410  24969374  baltimore marinas  2006-05-31 12:43:40         0   \n",
              "\n",
              "                   ClickURL  \n",
              "3558409  www.greatseats.com  \n",
              "3558410                 NaN  "
            ],
            "text/html": [
              "\n",
              "  <div id=\"df-f8895ac9-69c2-4dec-ba3b-5a08b584c5e3\">\n",
              "    <div class=\"colab-df-container\">\n",
              "      <div>\n",
              "<style scoped>\n",
              "    .dataframe tbody tr th:only-of-type {\n",
              "        vertical-align: middle;\n",
              "    }\n",
              "\n",
              "    .dataframe tbody tr th {\n",
              "        vertical-align: top;\n",
              "    }\n",
              "\n",
              "    .dataframe thead th {\n",
              "        text-align: right;\n",
              "    }\n",
              "</style>\n",
              "<table border=\"1\" class=\"dataframe\">\n",
              "  <thead>\n",
              "    <tr style=\"text-align: right;\">\n",
              "      <th></th>\n",
              "      <th>AnonID</th>\n",
              "      <th>Query</th>\n",
              "      <th>QueryTime</th>\n",
              "      <th>ItemRank</th>\n",
              "      <th>ClickURL</th>\n",
              "    </tr>\n",
              "  </thead>\n",
              "  <tbody>\n",
              "    <tr>\n",
              "      <th>3558409</th>\n",
              "      <td>24969374</td>\n",
              "      <td>orioles tickets</td>\n",
              "      <td>2006-05-31 12:31:57</td>\n",
              "      <td>2</td>\n",
              "      <td>www.greatseats.com</td>\n",
              "    </tr>\n",
              "    <tr>\n",
              "      <th>3558410</th>\n",
              "      <td>24969374</td>\n",
              "      <td>baltimore marinas</td>\n",
              "      <td>2006-05-31 12:43:40</td>\n",
              "      <td>0</td>\n",
              "      <td>NaN</td>\n",
              "    </tr>\n",
              "  </tbody>\n",
              "</table>\n",
              "</div>\n",
              "      <button class=\"colab-df-convert\" onclick=\"convertToInteractive('df-f8895ac9-69c2-4dec-ba3b-5a08b584c5e3')\"\n",
              "              title=\"Convert this dataframe to an interactive table.\"\n",
              "              style=\"display:none;\">\n",
              "        \n",
              "  <svg xmlns=\"http://www.w3.org/2000/svg\" height=\"24px\"viewBox=\"0 0 24 24\"\n",
              "       width=\"24px\">\n",
              "    <path d=\"M0 0h24v24H0V0z\" fill=\"none\"/>\n",
              "    <path d=\"M18.56 5.44l.94 2.06.94-2.06 2.06-.94-2.06-.94-.94-2.06-.94 2.06-2.06.94zm-11 1L8.5 8.5l.94-2.06 2.06-.94-2.06-.94L8.5 2.5l-.94 2.06-2.06.94zm10 10l.94 2.06.94-2.06 2.06-.94-2.06-.94-.94-2.06-.94 2.06-2.06.94z\"/><path d=\"M17.41 7.96l-1.37-1.37c-.4-.4-.92-.59-1.43-.59-.52 0-1.04.2-1.43.59L10.3 9.45l-7.72 7.72c-.78.78-.78 2.05 0 2.83L4 21.41c.39.39.9.59 1.41.59.51 0 1.02-.2 1.41-.59l7.78-7.78 2.81-2.81c.8-.78.8-2.07 0-2.86zM5.41 20L4 18.59l7.72-7.72 1.47 1.35L5.41 20z\"/>\n",
              "  </svg>\n",
              "      </button>\n",
              "      \n",
              "  <style>\n",
              "    .colab-df-container {\n",
              "      display:flex;\n",
              "      flex-wrap:wrap;\n",
              "      gap: 12px;\n",
              "    }\n",
              "\n",
              "    .colab-df-convert {\n",
              "      background-color: #E8F0FE;\n",
              "      border: none;\n",
              "      border-radius: 50%;\n",
              "      cursor: pointer;\n",
              "      display: none;\n",
              "      fill: #1967D2;\n",
              "      height: 32px;\n",
              "      padding: 0 0 0 0;\n",
              "      width: 32px;\n",
              "    }\n",
              "\n",
              "    .colab-df-convert:hover {\n",
              "      background-color: #E2EBFA;\n",
              "      box-shadow: 0px 1px 2px rgba(60, 64, 67, 0.3), 0px 1px 3px 1px rgba(60, 64, 67, 0.15);\n",
              "      fill: #174EA6;\n",
              "    }\n",
              "\n",
              "    [theme=dark] .colab-df-convert {\n",
              "      background-color: #3B4455;\n",
              "      fill: #D2E3FC;\n",
              "    }\n",
              "\n",
              "    [theme=dark] .colab-df-convert:hover {\n",
              "      background-color: #434B5C;\n",
              "      box-shadow: 0px 1px 3px 1px rgba(0, 0, 0, 0.15);\n",
              "      filter: drop-shadow(0px 1px 2px rgba(0, 0, 0, 0.3));\n",
              "      fill: #FFFFFF;\n",
              "    }\n",
              "  </style>\n",
              "\n",
              "      <script>\n",
              "        const buttonEl =\n",
              "          document.querySelector('#df-f8895ac9-69c2-4dec-ba3b-5a08b584c5e3 button.colab-df-convert');\n",
              "        buttonEl.style.display =\n",
              "          google.colab.kernel.accessAllowed ? 'block' : 'none';\n",
              "\n",
              "        async function convertToInteractive(key) {\n",
              "          const element = document.querySelector('#df-f8895ac9-69c2-4dec-ba3b-5a08b584c5e3');\n",
              "          const dataTable =\n",
              "            await google.colab.kernel.invokeFunction('convertToInteractive',\n",
              "                                                     [key], {});\n",
              "          if (!dataTable) return;\n",
              "\n",
              "          const docLinkHtml = 'Like what you see? Visit the ' +\n",
              "            '<a target=\"_blank\" href=https://colab.research.google.com/notebooks/data_table.ipynb>data table notebook</a>'\n",
              "            + ' to learn more about interactive tables.';\n",
              "          element.innerHTML = '';\n",
              "          dataTable['output_type'] = 'display_data';\n",
              "          await google.colab.output.renderOutput(dataTable, element);\n",
              "          const docLink = document.createElement('div');\n",
              "          docLink.innerHTML = docLinkHtml;\n",
              "          element.appendChild(docLink);\n",
              "        }\n",
              "      </script>\n",
              "    </div>\n",
              "  </div>\n",
              "  "
            ]
          },
          "metadata": {},
          "execution_count": 148
        }
      ]
    },
    {
      "cell_type": "markdown",
      "source": [
        "## Query cleaning\n",
        "\n",
        "### YES implement\n",
        "\n",
        "Given a raw string, return an array of cleaned strings?\n",
        "\n",
        "[This article](https://www.analyticsvidhya.com/blog/2021/06/text-preprocessing-in-nlp-with-python-codes/) has a basic overview of what a general strategy could be.\n",
        "\n",
        "- remove punctuation\n",
        "- tokenize (split whitespace), regex\n",
        "- remove stopwords, nltk\n",
        "- lemmatize, nltk\n",
        "\n",
        "This should be good enough.\n",
        "\n",
        "### NO implement\n",
        "\n",
        "Maybe there's more value to keeping them as raw strings?\n",
        "\n",
        "Not sure."
      ],
      "metadata": {
        "id": "iK7nl1ZkpbCf"
      }
    },
    {
      "cell_type": "markdown",
      "source": [
        "## Processing data\n",
        "\n",
        "Let's not preprocess any queries yet. We can always do that later.\n",
        "\n",
        "Let's group the data by AnonID. -- I'm not sure this does what I think it does."
      ],
      "metadata": {
        "id": "C_e6MnG4fI2F"
      }
    },
    {
      "cell_type": "code",
      "source": [
        "df_by_id = df.groupby(by='AnonID')"
      ],
      "metadata": {
        "id": "kGe81fvUpIL-"
      },
      "execution_count": 165,
      "outputs": []
    },
    {
      "cell_type": "code",
      "source": [
        "df_by_id.AnonID.unique()"
      ],
      "metadata": {
        "colab": {
          "base_uri": "https://localhost:8080/"
        },
        "id": "dHIxhVvytS6c",
        "outputId": "29e52f18-1058-4636-9cec-2515bec926a0"
      },
      "execution_count": 174,
      "outputs": [
        {
          "output_type": "execute_result",
          "data": {
            "text/plain": [
              "AnonID\n",
              "142              [142]\n",
              "217              [217]\n",
              "993              [993]\n",
              "1268            [1268]\n",
              "1326            [1326]\n",
              "               ...    \n",
              "24967641    [24967641]\n",
              "24967786    [24967786]\n",
              "24968114    [24968114]\n",
              "24969251    [24969251]\n",
              "24969374    [24969374]\n",
              "Name: AnonID, Length: 65516, dtype: object"
            ]
          },
          "metadata": {},
          "execution_count": 174
        }
      ]
    },
    {
      "cell_type": "markdown",
      "source": [
        "I actually want a DF for one user"
      ],
      "metadata": {
        "id": "GsX-EDA4xyjh"
      }
    },
    {
      "cell_type": "code",
      "source": [
        "anon_142_df = df.query('AnonID == 142')"
      ],
      "metadata": {
        "id": "FWJWH3fWtUyu"
      },
      "execution_count": 176,
      "outputs": []
    },
    {
      "cell_type": "code",
      "source": [
        "anon_142_df.info()"
      ],
      "metadata": {
        "colab": {
          "base_uri": "https://localhost:8080/"
        },
        "id": "HWzmDJNiwiZV",
        "outputId": "c05c5227-917b-4800-88cf-6b336a1006e3"
      },
      "execution_count": 178,
      "outputs": [
        {
          "output_type": "stream",
          "name": "stdout",
          "text": [
            "<class 'pandas.core.frame.DataFrame'>\n",
            "Int64Index: 27 entries, 0 to 26\n",
            "Data columns (total 5 columns):\n",
            " #   Column     Non-Null Count  Dtype \n",
            "---  ------     --------------  ----- \n",
            " 0   AnonID     27 non-null     uint32\n",
            " 1   Query      27 non-null     object\n",
            " 2   QueryTime  27 non-null     object\n",
            " 3   ItemRank   27 non-null     int16 \n",
            " 4   ClickURL   3 non-null      object\n",
            "dtypes: int16(1), object(3), uint32(1)\n",
            "memory usage: 1.0+ KB\n"
          ]
        }
      ]
    },
    {
      "cell_type": "code",
      "source": [
        "anon_142_df.head()"
      ],
      "metadata": {
        "colab": {
          "base_uri": "https://localhost:8080/",
          "height": 206
        },
        "id": "IRVy5P5Bwnsq",
        "outputId": "e33f0b79-7e98-4a69-858d-0875141fe72e"
      },
      "execution_count": 180,
      "outputs": [
        {
          "output_type": "execute_result",
          "data": {
            "text/plain": [
              "   AnonID                        Query            QueryTime  ItemRank ClickURL\n",
              "0     142               rentdirect.com  2006-03-01 07:17:12         0      NaN\n",
              "1     142  www.prescriptionfortime.com  2006-03-12 12:31:06         0      NaN\n",
              "2     142                   staple.com  2006-03-17 21:19:29         0      NaN\n",
              "3     142                   staple.com  2006-03-17 21:19:45         0      NaN\n",
              "4     142    www.newyorklawyersite.com  2006-03-18 08:02:58         0      NaN"
            ],
            "text/html": [
              "\n",
              "  <div id=\"df-c5a1f3e7-9fbc-43e5-86b8-43a9c83804f7\">\n",
              "    <div class=\"colab-df-container\">\n",
              "      <div>\n",
              "<style scoped>\n",
              "    .dataframe tbody tr th:only-of-type {\n",
              "        vertical-align: middle;\n",
              "    }\n",
              "\n",
              "    .dataframe tbody tr th {\n",
              "        vertical-align: top;\n",
              "    }\n",
              "\n",
              "    .dataframe thead th {\n",
              "        text-align: right;\n",
              "    }\n",
              "</style>\n",
              "<table border=\"1\" class=\"dataframe\">\n",
              "  <thead>\n",
              "    <tr style=\"text-align: right;\">\n",
              "      <th></th>\n",
              "      <th>AnonID</th>\n",
              "      <th>Query</th>\n",
              "      <th>QueryTime</th>\n",
              "      <th>ItemRank</th>\n",
              "      <th>ClickURL</th>\n",
              "    </tr>\n",
              "  </thead>\n",
              "  <tbody>\n",
              "    <tr>\n",
              "      <th>0</th>\n",
              "      <td>142</td>\n",
              "      <td>rentdirect.com</td>\n",
              "      <td>2006-03-01 07:17:12</td>\n",
              "      <td>0</td>\n",
              "      <td>NaN</td>\n",
              "    </tr>\n",
              "    <tr>\n",
              "      <th>1</th>\n",
              "      <td>142</td>\n",
              "      <td>www.prescriptionfortime.com</td>\n",
              "      <td>2006-03-12 12:31:06</td>\n",
              "      <td>0</td>\n",
              "      <td>NaN</td>\n",
              "    </tr>\n",
              "    <tr>\n",
              "      <th>2</th>\n",
              "      <td>142</td>\n",
              "      <td>staple.com</td>\n",
              "      <td>2006-03-17 21:19:29</td>\n",
              "      <td>0</td>\n",
              "      <td>NaN</td>\n",
              "    </tr>\n",
              "    <tr>\n",
              "      <th>3</th>\n",
              "      <td>142</td>\n",
              "      <td>staple.com</td>\n",
              "      <td>2006-03-17 21:19:45</td>\n",
              "      <td>0</td>\n",
              "      <td>NaN</td>\n",
              "    </tr>\n",
              "    <tr>\n",
              "      <th>4</th>\n",
              "      <td>142</td>\n",
              "      <td>www.newyorklawyersite.com</td>\n",
              "      <td>2006-03-18 08:02:58</td>\n",
              "      <td>0</td>\n",
              "      <td>NaN</td>\n",
              "    </tr>\n",
              "  </tbody>\n",
              "</table>\n",
              "</div>\n",
              "      <button class=\"colab-df-convert\" onclick=\"convertToInteractive('df-c5a1f3e7-9fbc-43e5-86b8-43a9c83804f7')\"\n",
              "              title=\"Convert this dataframe to an interactive table.\"\n",
              "              style=\"display:none;\">\n",
              "        \n",
              "  <svg xmlns=\"http://www.w3.org/2000/svg\" height=\"24px\"viewBox=\"0 0 24 24\"\n",
              "       width=\"24px\">\n",
              "    <path d=\"M0 0h24v24H0V0z\" fill=\"none\"/>\n",
              "    <path d=\"M18.56 5.44l.94 2.06.94-2.06 2.06-.94-2.06-.94-.94-2.06-.94 2.06-2.06.94zm-11 1L8.5 8.5l.94-2.06 2.06-.94-2.06-.94L8.5 2.5l-.94 2.06-2.06.94zm10 10l.94 2.06.94-2.06 2.06-.94-2.06-.94-.94-2.06-.94 2.06-2.06.94z\"/><path d=\"M17.41 7.96l-1.37-1.37c-.4-.4-.92-.59-1.43-.59-.52 0-1.04.2-1.43.59L10.3 9.45l-7.72 7.72c-.78.78-.78 2.05 0 2.83L4 21.41c.39.39.9.59 1.41.59.51 0 1.02-.2 1.41-.59l7.78-7.78 2.81-2.81c.8-.78.8-2.07 0-2.86zM5.41 20L4 18.59l7.72-7.72 1.47 1.35L5.41 20z\"/>\n",
              "  </svg>\n",
              "      </button>\n",
              "      \n",
              "  <style>\n",
              "    .colab-df-container {\n",
              "      display:flex;\n",
              "      flex-wrap:wrap;\n",
              "      gap: 12px;\n",
              "    }\n",
              "\n",
              "    .colab-df-convert {\n",
              "      background-color: #E8F0FE;\n",
              "      border: none;\n",
              "      border-radius: 50%;\n",
              "      cursor: pointer;\n",
              "      display: none;\n",
              "      fill: #1967D2;\n",
              "      height: 32px;\n",
              "      padding: 0 0 0 0;\n",
              "      width: 32px;\n",
              "    }\n",
              "\n",
              "    .colab-df-convert:hover {\n",
              "      background-color: #E2EBFA;\n",
              "      box-shadow: 0px 1px 2px rgba(60, 64, 67, 0.3), 0px 1px 3px 1px rgba(60, 64, 67, 0.15);\n",
              "      fill: #174EA6;\n",
              "    }\n",
              "\n",
              "    [theme=dark] .colab-df-convert {\n",
              "      background-color: #3B4455;\n",
              "      fill: #D2E3FC;\n",
              "    }\n",
              "\n",
              "    [theme=dark] .colab-df-convert:hover {\n",
              "      background-color: #434B5C;\n",
              "      box-shadow: 0px 1px 3px 1px rgba(0, 0, 0, 0.15);\n",
              "      filter: drop-shadow(0px 1px 2px rgba(0, 0, 0, 0.3));\n",
              "      fill: #FFFFFF;\n",
              "    }\n",
              "  </style>\n",
              "\n",
              "      <script>\n",
              "        const buttonEl =\n",
              "          document.querySelector('#df-c5a1f3e7-9fbc-43e5-86b8-43a9c83804f7 button.colab-df-convert');\n",
              "        buttonEl.style.display =\n",
              "          google.colab.kernel.accessAllowed ? 'block' : 'none';\n",
              "\n",
              "        async function convertToInteractive(key) {\n",
              "          const element = document.querySelector('#df-c5a1f3e7-9fbc-43e5-86b8-43a9c83804f7');\n",
              "          const dataTable =\n",
              "            await google.colab.kernel.invokeFunction('convertToInteractive',\n",
              "                                                     [key], {});\n",
              "          if (!dataTable) return;\n",
              "\n",
              "          const docLinkHtml = 'Like what you see? Visit the ' +\n",
              "            '<a target=\"_blank\" href=https://colab.research.google.com/notebooks/data_table.ipynb>data table notebook</a>'\n",
              "            + ' to learn more about interactive tables.';\n",
              "          element.innerHTML = '';\n",
              "          dataTable['output_type'] = 'display_data';\n",
              "          await google.colab.output.renderOutput(dataTable, element);\n",
              "          const docLink = document.createElement('div');\n",
              "          docLink.innerHTML = docLinkHtml;\n",
              "          element.appendChild(docLink);\n",
              "        }\n",
              "      </script>\n",
              "    </div>\n",
              "  </div>\n",
              "  "
            ]
          },
          "metadata": {},
          "execution_count": 180
        }
      ]
    },
    {
      "cell_type": "markdown",
      "source": [
        "Now we are getting somewehere! There are 65516 users in this dataset -- I just want a sample of them. Need to determine how to narrow down this data. Also to filter \"trash\" data from possible spambots."
      ],
      "metadata": {
        "id": "nCnmVG2iyKC2"
      }
    },
    {
      "cell_type": "markdown",
      "source": [
        "testing GH integration"
      ],
      "metadata": {
        "id": "H-oWIHoHybUi"
      }
    }
  ]
}